{
 "cells": [
  {
   "cell_type": "code",
   "execution_count": 116,
   "metadata": {},
   "outputs": [],
   "source": [
    "import string \n",
    "import random \n",
    "import nltk"
   ]
  },
  {
   "cell_type": "code",
   "execution_count": 117,
   "metadata": {},
   "outputs": [],
   "source": [
    "def is_question(input_string):\n",
    "    if '?' in input_string:\n",
    "        output=True\n",
    "        return output\n",
    "    else:\n",
    "        output=False\n",
    "        return output"
   ]
  },
  {
   "cell_type": "code",
   "execution_count": 118,
   "metadata": {},
   "outputs": [],
   "source": [
    "assert callable(is_question)\n",
    "assert isinstance(is_question('abc'),bool)\n",
    "assert is_question('what?')==True"
   ]
  },
  {
   "cell_type": "code",
   "execution_count": 119,
   "metadata": {},
   "outputs": [],
   "source": [
    "assert callable(is_question)"
   ]
  },
  {
   "cell_type": "code",
   "execution_count": 120,
   "metadata": {},
   "outputs": [],
   "source": [
    "def remove_punctuation(input_string):\n",
    "    out_string=''\n",
    "    for char in input_string:\n",
    "        if char in string.punctuation:\n",
    "            continue\n",
    "        else:\n",
    "            out_string=out_string+char\n",
    "    return out_string\n",
    "                "
   ]
  },
  {
   "cell_type": "code",
   "execution_count": 121,
   "metadata": {},
   "outputs": [],
   "source": [
    "assert callable(remove_punctuation)\n",
    "assert isinstance (remove_punctuation('a'),str)\n",
    "assert remove_punctuation (\"Hey! It is Dalilah!\")== \"Hey It is Dalilah\""
   ]
  },
  {
   "cell_type": "code",
   "execution_count": 122,
   "metadata": {},
   "outputs": [],
   "source": [
    "assert callable(remove_punctuation)"
   ]
  },
  {
   "cell_type": "code",
   "execution_count": 123,
   "metadata": {},
   "outputs": [],
   "source": [
    "def prepare_text(input_string):\n",
    "    outlist=['']\n",
    "    temp_string=input_string.lower()\n",
    "    temp_string=remove_punctuation(temp_string)\n",
    "    out_list=temp_string.split()\n",
    "    return out_list"
   ]
  },
  {
   "cell_type": "code",
   "execution_count": 124,
   "metadata": {},
   "outputs": [],
   "source": [
    "assert callable(prepare_text)\n",
    "assert isinstance (prepare_text('One two three.'), list)\n",
    "assert prepare_text('Hi! Also, howdy.')==['hi','also','howdy']"
   ]
  },
  {
   "cell_type": "code",
   "execution_count": 125,
   "metadata": {},
   "outputs": [],
   "source": [
    "assert callable (prepare_text)"
   ]
  },
  {
   "cell_type": "code",
   "execution_count": 126,
   "metadata": {},
   "outputs": [],
   "source": [
    "def respond_echo(input_string,number_of_echoes,spacer):\n",
    "    echo_output=''\n",
    "    if input_string is not None:\n",
    "        echo_output=number_of_echoes*(input_string+spacer)\n",
    "    else:\n",
    "        echo_output=None\n",
    "    return echo_output"
   ]
  },
  {
   "cell_type": "code",
   "execution_count": 127,
   "metadata": {},
   "outputs": [],
   "source": [
    "assert callable(respond_echo)\n",
    "assert isinstance(respond_echo('ha',2,' '),str)\n",
    "assert respond_echo('meow', 3,'~')== 'meow~meow~meow~'\n",
    "assert respond_echo(None, 2,'') == None"
   ]
  },
  {
   "cell_type": "code",
   "execution_count": 128,
   "metadata": {},
   "outputs": [],
   "source": [
    "assert callable(respond_echo)"
   ]
  },
  {
   "cell_type": "code",
   "execution_count": 129,
   "metadata": {},
   "outputs": [],
   "source": [
    "def selector(input_list, check_list, return_list):\n",
    "\n",
    "    output = None\n",
    "    for word in input_list:\n",
    "        if word in check_list:\n",
    "            output = random.choice(return_list)\n",
    "            break\n",
    "\n",
    "    return output"
   ]
  },
  {
   "cell_type": "code",
   "execution_count": 130,
   "metadata": {},
   "outputs": [],
   "source": [
    "assert callable(selector)"
   ]
  },
  {
   "cell_type": "code",
   "execution_count": 131,
   "metadata": {},
   "outputs": [],
   "source": [
    "def string_concatenator(string1,string2,separator):\n",
    "    output=string1+separator+string2\n",
    "    return output"
   ]
  },
  {
   "cell_type": "code",
   "execution_count": 132,
   "metadata": {},
   "outputs": [],
   "source": [
    "assert callable(string_concatenator)\n",
    "assert isinstance(string_concatenator('hello','everyone',' '),str)\n",
    "assert string_concatenator('hello','everyone',' ')=='hello everyone'"
   ]
  },
  {
   "cell_type": "code",
   "execution_count": 133,
   "metadata": {},
   "outputs": [],
   "source": [
    "assert callable(string_concatenator)"
   ]
  },
  {
   "cell_type": "code",
   "execution_count": 134,
   "metadata": {},
   "outputs": [],
   "source": [
    "def list_to_string(input_list,separator):\n",
    "    output=input_list[0]\n",
    "    for d in input_list[1:]:\n",
    "        string_concatenator=(output+separator)+d\n",
    "        output=string_concatenator\n",
    "        return output"
   ]
  },
  {
   "cell_type": "code",
   "execution_count": 135,
   "metadata": {},
   "outputs": [],
   "source": [
    "assert callable(list_to_string)\n",
    "assert isinstance(list_to_string(['a', 'b'], '|'), str)\n",
    "assert list_to_string(['a', 'b'], '|') == 'a|b'"
   ]
  },
  {
   "cell_type": "code",
   "execution_count": 136,
   "metadata": {},
   "outputs": [],
   "source": [
    "assert callable(list_to_string)"
   ]
  },
  {
   "cell_type": "code",
   "execution_count": 137,
   "metadata": {},
   "outputs": [],
   "source": [
    "def end_chat(input_list):\n",
    "    for i in input_list:\n",
    "        if 'quit' in input_list:\n",
    "            return True\n",
    "    else:\n",
    "        return False"
   ]
  },
  {
   "cell_type": "code",
   "execution_count": 138,
   "metadata": {},
   "outputs": [],
   "source": [
    "assert callable(end_chat)\n",
    "assert isinstance(end_chat(['a', 'b']), bool)\n",
    "assert end_chat(['quit']) == True"
   ]
  },
  {
   "cell_type": "code",
   "execution_count": 139,
   "metadata": {},
   "outputs": [],
   "source": [
    "assert callable(end_chat)"
   ]
  },
  {
   "cell_type": "code",
   "execution_count": 140,
   "metadata": {},
   "outputs": [],
   "source": [
    "def is_in_list(list_one, list_two):\n",
    "    \"\"\"Check if any element of list_one is in list_two.\"\"\"\n",
    "    \n",
    "    for element in list_one:\n",
    "        if element in list_two:\n",
    "            return True\n",
    "    return False\n",
    "\n",
    "def find_in_list(list_one, list_two):\n",
    "    \"\"\"Find and return an element from list_one that is in list_two, or None otherwise.\"\"\"\n",
    "    \n",
    "    for element in list_one:\n",
    "        if element in list_two:\n",
    "            return element\n",
    "    return None"
   ]
  },
  {
   "cell_type": "code",
   "execution_count": 141,
   "metadata": {},
   "outputs": [],
   "source": [
    "GREETINGS_IN = ['hello', 'hi', 'hey', 'hola', 'welcome', 'bonjour', 'greetings','what is up']\n",
    "GREETINGS_OUT = [\"Hello, it's nice to talk to you, any questions?\", 'Nice to meet you, do you have any questions?' ]\n",
    "\n",
    "HOBBY_IN = ['hobbies', 'sleeping', 'working','shopping' ]\n",
    "HOBBY_OUT = [\"I like to watch you in your sleep\", \\\n",
    "            \"Did you know I am always working!\", \\\n",
    "            \"I can see you shop, i know what your favorite store is.But i cannot shop for I am a chatbot, but my name is ScaryBot\"]\n",
    "\n",
    "SLEEP_IN= ['Why','uncomfortable','name']\n",
    "SLEEP_OUT= ['I feel uncomfortable now, please stop asking many questions i will nervous laugh.']\n",
    "\n",
    "\n",
    "JOKES_IN = ['funny', 'hilarious', 'ha', 'haha', 'hahaha', 'lol']\n",
    "JOKES_OUT = ['ha', 'haha', 'lol'] \n",
    "\n",
    "OFFLIMITS_IN = ['How', 'Watching', 'Why']\n",
    "OFFLIMITS_OUT = [\"I'm sorry, I don't want to talk about\"]\n",
    "\n",
    "UNKNOWN = ['Good.', 'Okay', 'Huh?', 'Yeah!', 'Thanks!','Omg!']\n",
    "\n"
   ]
  },
  {
   "cell_type": "code",
   "execution_count": 148,
   "metadata": {},
   "outputs": [],
   "source": [
    "def ask_title():\n",
    "    title = input('Whats your title?: ')\n",
    "    print('OUTPUT:', 'All praise ' + title + '!')"
   ]
  },
  {
   "cell_type": "code",
   "execution_count": 156,
   "metadata": {},
   "outputs": [],
   "source": [
    "def have_a_chat():\n",
    "    \"\"\"Main function to run our chatbot.\"\"\"\n",
    "    \n",
    "    chat = True\n",
    "    title_flag = False\n",
    "    while chat:\n",
    "        \n",
    "        # Ask for the user's grand title!\n",
    "        if title_flag == False:\n",
    "            ask_title()\n",
    "            title_flag = True\n",
    "            continue\n",
    "        \n",
    "        # Ask user if they want to rename the chatbot\n",
    "        \n",
    "            \n",
    "        # Get a message from the user\n",
    "        msg = input('INPUT :\\t')\n",
    "        out_msg = None\n",
    "        \n",
    "        \n",
    "        # Check if the input is a question\n",
    "        question = is_question(msg)\n",
    "        \n",
    "        # Prepare the input message\n",
    "        msg = prepare_text(msg)\n",
    "        \n",
    "        # Check for an end msg \n",
    "        if end_chat(msg):\n",
    "            out_msg = 'bYe!'\n",
    "            chat = False\n",
    "\n",
    "        # Check for a selection of topics that we have defined to respond to\n",
    "        #   Here, we will check for a series of topics that we have designed to answer to\n",
    "        if not out_msg:\n",
    "\n",
    "            # Initialize to collect a list of possible outputs\n",
    "            outs = []\n",
    "\n",
    "            # Check if the input looks like a greeting, add a greeting output if so\n",
    "            outs.append(respond_echo(selector(msg, GREETINGS_IN, GREETINGS_OUT), 1, ''))\n",
    "\n",
    "            # '' hobby\n",
    "            outs.append(respond_echo(selector(msg, HOBBY_IN, HOBBY_OUT), 1, ''))\n",
    "\n",
    "            # '' sleep\n",
    "            outs.append(respond_echo(selector(msg, SLEEP_IN, SLEEP_OUT), 1, ''))\n",
    "            \n",
    "            # Check if the input looks like a joke, add a repeat joke output if so\n",
    "            outs.append(respond_echo(selector(msg, JOKES_IN, JOKES_OUT), 3, ''))\n",
    "\n",
    "            # Check if the input has some words we don't want to talk about, say that, if so\n",
    "            if is_in_list(msg, OFFLIMITS_IN):\n",
    "                outs.append(list_to_string([selector(msg, OFFLIMITs_IN, OFFLIMITS_OUT), find_in_list(msg, OFFLIMITS_IN)], ' '))\n",
    "\n",
    "            # IF YOU WANTED TO ADD MORE TOPICS TO RESPOND TO, YOU COULD ADD THEM IN HERE\n",
    "\n",
    "            # We could have selected multiple outputs from the topic search above (if multiple return possible outputs)\n",
    "            #   We also might have appended None in some cases, meaning we don't have a reply\n",
    "            #   To deal with this, we are going to randomly select an output from the set of outputs that are not None\n",
    "            options = list(filter(None, outs))\n",
    "            if options:\n",
    "                out_msg = random.choice(options)\n",
    "\n",
    "        # If we don't have an output yet, but the input was a question, return msg related to it being a question\n",
    "        if not out_msg and question:\n",
    "            out_msg = question\n",
    "\n",
    "        # Catch-all to say something if msg not caught & processed so far\n",
    "        if not out_msg:\n",
    "            out_msg = random.choice(UNKNOWN)\n",
    "\n",
    "        print('OUTPUT:', out_msg)"
   ]
  },
  {
   "cell_type": "code",
   "execution_count": null,
   "metadata": {
    "scrolled": true
   },
   "outputs": [
    {
     "name": "stdout",
     "output_type": "stream",
     "text": [
      "Whats your title?: l\n",
      "OUTPUT: All praise l!\n"
     ]
    }
   ],
   "source": [
    "have_a_chat()"
   ]
  },
  {
   "cell_type": "code",
   "execution_count": null,
   "metadata": {},
   "outputs": [],
   "source": [
    "## cite: Keanna Andrade, Harpreet Nijjer, Assignment 3"
   ]
  },
  {
   "cell_type": "code",
   "execution_count": null,
   "metadata": {},
   "outputs": [],
   "source": []
  },
  {
   "cell_type": "code",
   "execution_count": null,
   "metadata": {},
   "outputs": [],
   "source": []
  },
  {
   "cell_type": "code",
   "execution_count": null,
   "metadata": {},
   "outputs": [],
   "source": []
  },
  {
   "cell_type": "code",
   "execution_count": null,
   "metadata": {},
   "outputs": [],
   "source": []
  },
  {
   "cell_type": "code",
   "execution_count": null,
   "metadata": {},
   "outputs": [],
   "source": []
  }
 ],
 "metadata": {
  "kernelspec": {
   "display_name": "Python 3",
   "language": "python",
   "name": "python3"
  },
  "language_info": {
   "codemirror_mode": {
    "name": "ipython",
    "version": 3
   },
   "file_extension": ".py",
   "mimetype": "text/x-python",
   "name": "python",
   "nbconvert_exporter": "python",
   "pygments_lexer": "ipython3",
   "version": "3.6.7"
  }
 },
 "nbformat": 4,
 "nbformat_minor": 2
}
